{
 "cells": [
  {
   "cell_type": "code",
   "execution_count": 3,
   "metadata": {},
   "outputs": [],
   "source": [
    "import pandas as pd\n",
    "import numpy as np\n",
    "import joblib\n",
    "import sklearn\n",
    "loaded_rf = joblib.load(\"fraud_detection_random_forest_smote.joblib\")"
   ]
  },
  {
   "cell_type": "code",
   "execution_count": 4,
   "metadata": {},
   "outputs": [],
   "source": [
    "i = 0\n",
    "data_entry = pd.DataFrame(columns=['amount','nameOrig','oldbalanceOrg','newbalanceOrig','nameDest','oldbalanceDest','newbalanceDest','type_CASH_IN','type_CASH_OUT','type_DEBIT','type_PAYMENT','type_TRANSFER'])\n",
    "while True:\n",
    "    Transaction_type = input(\"Enter the transaction type(CASH_IN, CASH_OUT, DEBIT, PAYMENT, TRANSFER): \")\n",
    "    amount = float(input(\"Enter the transaction amount: \"))\n",
    "    nameOrig = input(\"Enter the account number of the original account: \")\n",
    "    oldBalanceOrig = float(input(\"Enter the old balance of the original account: \"))\n",
    "    newBalanceOrig = float(input(\"Enter the new balance of the original account: \"))\n",
    "    nameDest = input(\"Enter the account number of the destination account: \")\n",
    "    oldBalanceDest = float(input(\"Enter the old balance of the destination account: \"))\n",
    "    newBalanceDest = float(input(\"Enter the new balance of the destination account: \"))\n",
    "    data_entry.loc[i] = [amount,nameOrig,oldBalanceOrig,newBalanceOrig,nameDest,oldBalanceDest,newBalanceDest,0,0,0,0,0]\n",
    "    if Transaction_type == 'CASH_IN':\n",
    "        data_entry.loc[i,'type_CASH_IN'] = 1\n",
    "    elif Transaction_type == 'CASH_OUT':\n",
    "        data_entry.loc[i,'type_CASH_OUT'] = 1\n",
    "    elif Transaction_type == 'DEBIT':\n",
    "        data_entry.loc[i,'type_DEBIT'] = 1\n",
    "    elif Transaction_type == 'PAYMENT':\n",
    "        data_entry.loc[i,'type_PAYMENT'] = 1\n",
    "    elif Transaction_type == 'TRANSFER':\n",
    "        data_entry.loc[i,'type_TRANSFER'] = 1\n",
    "    i = i+1\n",
    "    controller = input(\"Do you want to input another entry?(Y/N): \")\n",
    "    if controller == 'Y':\n",
    "        continue\n",
    "    else:\n",
    "        break"
   ]
  },
  {
   "cell_type": "code",
   "execution_count": 5,
   "metadata": {},
   "outputs": [
    {
     "data": {
      "text/html": [
       "<div>\n",
       "<style scoped>\n",
       "    .dataframe tbody tr th:only-of-type {\n",
       "        vertical-align: middle;\n",
       "    }\n",
       "\n",
       "    .dataframe tbody tr th {\n",
       "        vertical-align: top;\n",
       "    }\n",
       "\n",
       "    .dataframe thead th {\n",
       "        text-align: right;\n",
       "    }\n",
       "</style>\n",
       "<table border=\"1\" class=\"dataframe\">\n",
       "  <thead>\n",
       "    <tr style=\"text-align: right;\">\n",
       "      <th></th>\n",
       "      <th>nameOrig</th>\n",
       "      <th>nameDest</th>\n",
       "    </tr>\n",
       "  </thead>\n",
       "  <tbody>\n",
       "    <tr>\n",
       "      <th>0</th>\n",
       "      <td>C19191819</td>\n",
       "      <td>C19819811</td>\n",
       "    </tr>\n",
       "  </tbody>\n",
       "</table>\n",
       "</div>"
      ],
      "text/plain": [
       "    nameOrig   nameDest\n",
       "0  C19191819  C19819811"
      ]
     },
     "execution_count": 5,
     "metadata": {},
     "output_type": "execute_result"
    }
   ],
   "source": [
    "data_pred = data_entry.drop(['nameOrig','nameDest'],axis=1)\n",
    "prediction = loaded_rf.predict(data_pred)\n",
    "prediction\n",
    "data_entry['prediction'] = prediction\n",
    "highlighted_df = data_entry[data_entry['prediction'] == 1]\n",
    "highlighted = highlighted_df.drop(['amount','oldbalanceOrg','newbalanceOrig','oldbalanceDest','newbalanceDest','type_CASH_IN','type_CASH_OUT','type_DEBIT','type_PAYMENT','type_TRANSFER','prediction'],axis = 1)\n",
    "highlighted"
   ]
  },
  {
   "cell_type": "code",
   "execution_count": 6,
   "metadata": {},
   "outputs": [],
   "source": [
    "highlighted.to_csv('high_risk_account.csv')"
   ]
  }
 ],
 "metadata": {
  "kernelspec": {
   "display_name": "Python 3",
   "language": "python",
   "name": "python3"
  },
  "language_info": {
   "codemirror_mode": {
    "name": "ipython",
    "version": 3
   },
   "file_extension": ".py",
   "mimetype": "text/x-python",
   "name": "python",
   "nbconvert_exporter": "python",
   "pygments_lexer": "ipython3",
   "version": "3.12.5"
  }
 },
 "nbformat": 4,
 "nbformat_minor": 2
}
